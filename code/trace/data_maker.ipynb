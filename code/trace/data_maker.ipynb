{
 "cells": [
  {
   "cell_type": "markdown",
   "metadata": {},
   "source": [
    "# 初始最虚假的trace"
   ]
  },
  {
   "cell_type": "code",
   "execution_count": null,
   "metadata": {},
   "outputs": [
    {
     "ename": "",
     "evalue": "",
     "output_type": "error",
     "traceback": [
      "\u001b[1;31mRunning cells with 'Python 3.6.9 64-bit' requires ipykernel package.\n",
      "Run the following command to install 'ipykernel' into the Python environment. \n",
      "Command: '/usr/bin/python -m pip install ipykernel -U --user --force-reinstall'"
     ]
    }
   ],
   "source": [
    "import os\n",
    "import numpy as np\n",
    "import pandas as pd\n",
    "import easygraph as eg\n",
    "import random"
   ]
  },
  {
   "cell_type": "code",
   "execution_count": 4,
   "metadata": {},
   "outputs": [],
   "source": [
    "## 100个用户，随机连边\n",
    "USER_NUMBER = 100\n",
    "EDGE_CREATE_PROBABILITY = 0.3\n"
   ]
  },
  {
   "cell_type": "markdown",
   "metadata": {},
   "source": [
    "## 好友关系"
   ]
  },
  {
   "cell_type": "code",
   "execution_count": 15,
   "metadata": {},
   "outputs": [
    {
     "data": {
      "text/plain": [
       "<easygraph.classes.directed_graph.DiGraph at 0x7fb15371ba20>"
      ]
     },
     "execution_count": 15,
     "metadata": {},
     "output_type": "execute_result"
    }
   ],
   "source": [
    "eg.fast_erdos_renyi_P(USER_NUMBER, EDGE_CREATE_PROBABILITY, directed=True, FilePath=\"../data/traces/naive/relations.txt\")\n",
    "# eg.WS_Random(100, 6, 0.3, FilePath=\"../data/traces/naive/relations.txt\")"
   ]
  },
  {
   "cell_type": "code",
   "execution_count": 6,
   "metadata": {},
   "outputs": [
    {
     "name": "stdout",
     "output_type": "stream",
     "text": [
      "{'4': 30, '5': 36, '7': 37, '8': 24, '12': 31, '14': 29, '17': 29, '18': 35, '21': 28, '33': 30, '34': 34, '35': 30, '37': 24, '38': 26, '41': 34, '42': 38, '45': 33, '51': 33, '53': 37, '57': 31, '58': 37, '62': 28, '63': 29, '67': 23, '69': 27, '70': 29, '71': 37, '73': 38, '75': 33, '81': 29, '82': 27, '84': 31, '85': 30, '86': 28, '92': 28, '99': 32, '1': 29, '16': 24, '20': 24, '22': 29, '23': 33, '25': 40, '26': 25, '46': 39, '56': 26, '74': 26, '79': 30, '91': 30, '93': 31, '95': 23, '98': 30, '3': 25, '6': 28, '9': 35, '15': 34, '30': 30, '36': 24, '39': 33, '47': 25, '50': 30, '59': 29, '64': 30, '68': 34, '76': 32, '78': 27, '83': 28, '94': 26, '96': 25, '97': 26, '0': 36, '11': 30, '24': 31, '29': 24, '40': 26, '44': 32, '54': 30, '60': 27, '66': 29, '72': 28, '80': 25, '87': 28, '88': 28, '90': 32, '13': 25, '28': 29, '32': 30, '48': 30, '49': 31, '61': 30, '65': 28, '2': 30, '10': 28, '31': 32, '43': 27, '55': 26, '77': 32, '19': 20, '89': 32, '27': 19, '52': 29}\n"
     ]
    }
   ],
   "source": [
    "G = eg.DiGraph()\n",
    "G.add_edges_from_file(\"../data/traces/naive/relations.txt\")\n",
    "in_degree_dict = G.in_degree()\n",
    "print(in_degree_dict)"
   ]
  },
  {
   "cell_type": "markdown",
   "metadata": {},
   "source": [
    "## 发帖（时间+地点+图片大小）"
   ]
  },
  {
   "cell_type": "code",
   "execution_count": 2,
   "metadata": {},
   "outputs": [],
   "source": [
    "start_time = 1000000000\n",
    "end_time = 1000010000"
   ]
  },
  {
   "cell_type": "code",
   "execution_count": 24,
   "metadata": {},
   "outputs": [],
   "source": [
    "locations = [{'lat': '23.5', 'log': '90.0'}, {'lat': '-23.5', 'log': '-60.0'}, {'lat': '66.75', 'log': '30.0'}, {'lat': '50.34', 'log': '2.05'}]\n",
    "os.system(\"mkdir -p ../data/traces/naive/tweets_post\")\n",
    "for user_id in range(USER_NUMBER):\n",
    "    filename = '../data/traces/naive/tweets_post/%s'%(str(user_id)) + '.txt'\n",
    "    f_out = open(filename, \"w\")\n",
    "    now_time = start_time + random.randint(0, 1000)\n",
    "    while now_time < end_time:\n",
    "        media_size = random.randint(0, 2)  * random.uniform(10.0, 60.0)\n",
    "        time_interval = random.randint(100, 50 * int(in_degree_dict[str(user_id)])) # 发帖间隔\n",
    "        curr_location = random.choice(locations)\n",
    "        \n",
    "        print(str(now_time) + '+' + str(media_size) + '+' + str(curr_location), file=f_out)\n",
    "        now_time += time_interval\n",
    "    # break\n",
    "    "
   ]
  },
  {
   "cell_type": "markdown",
   "metadata": {},
   "source": [
    "## check_in时间+随机浏览最近发帖的好友/附近的图片\n"
   ]
  },
  {
   "cell_type": "code",
   "execution_count": 7,
   "metadata": {},
   "outputs": [],
   "source": [
    "os.system(\"mkdir -p ../data/traces/naive/checkins\")\n",
    "for user_id in range(USER_NUMBER):\n",
    "    filename = '../data/traces/naive/checkins/%s'%(str(user_id)) + '.txt'\n",
    "    f_out = open(filename, \"w\")\n",
    "    now_time = start_time + random.randint(0, 1000)\n",
    "    while now_time < end_time:\n",
    "        time_interval = random.randint(10, 50 * int(in_degree_dict[str(user_id)])) # 登陆间隔\n",
    "        friends_read = random.randint(10, 50)\n",
    "        nearby_read = random.randint(2, 10)\n",
    "        \n",
    "        print(str(now_time) + '+' + str(friends_read) + '+' + str(nearby_read), file=f_out)\n",
    "        now_time += time_interval"
   ]
  },
  {
   "cell_type": "code",
   "execution_count": null,
   "metadata": {},
   "outputs": [],
   "source": []
  }
 ],
 "metadata": {
  "interpreter": {
   "hash": "767d51c1340bd893661ea55ea3124f6de3c7a262a8b4abca0554b478b1e2ff90"
  },
  "kernelspec": {
   "display_name": "Python 3.6.9 64-bit",
   "language": "python",
   "name": "python3"
  },
  "language_info": {
   "codemirror_mode": {
    "name": "ipython",
    "version": 3
   },
   "file_extension": ".py",
   "mimetype": "text/x-python",
   "name": "python",
   "nbconvert_exporter": "python",
   "pygments_lexer": "ipython3",
   "version": "3.6.9"
  },
  "orig_nbformat": 4
 },
 "nbformat": 4,
 "nbformat_minor": 2
}
